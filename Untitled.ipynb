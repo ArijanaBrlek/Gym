{
 "cells": [
  {
   "cell_type": "code",
   "execution_count": 1,
   "metadata": {
    "collapsed": false
   },
   "outputs": [
    {
     "name": "stdout",
     "output_type": "stream",
     "text": [
      "Populating the interactive namespace from numpy and matplotlib\n"
     ]
    }
   ],
   "source": [
    "import scipy as sp\n",
    "import sklearn\n",
    "import pandas as pd\n",
    "import numpy as np\n",
    "import matplotlib.pyplot as plt\n",
    "%pylab inline"
   ]
  },
  {
   "cell_type": "code",
   "execution_count": 67,
   "metadata": {
    "collapsed": false
   },
   "outputs": [
    {
     "data": {
      "image/png": "[encoded data removed]",
      "text/plain": [
       "<matplotlib.figure.Figure at 0x7f5a3671fe50>"
      ]
     },
     "metadata": {},
     "output_type": "display_data"
    }
   ],
   "source": [
    "db = pd.read_csv(\"db.csv\")\n",
    "n = sum([1 if c == \"+\" else 0 for c in db.ix[:,1]])\n",
    "a = sum([1 if c == '+' else 0 for c in db.ix[:,2]])\n",
    "\n",
    "plt.xlim([0,1])\n",
    "plt.ylim([0, np.max([a,n])+5])\n",
    "bar_width = 0.2\n",
    "\n",
    "rects1 = plt.bar(0.3, n, bar_width, color='b', label='Nino')\n",
    "rects2 = plt.bar(0 + bar_width + 0.3, a, bar_width, color='r', label='Arijana')\n",
    "\n",
    "plt.tick_params(axis='x', which='both', bottom='off', top='off', labelbottom='off') \n",
    "plt.legend()\n",
    "plt.savefig(\"graph.png\")\n",
    "plt.show()"
   ]
  },
  {
   "cell_type": "code",
   "execution_count": null,
   "metadata": {
    "collapsed": true
   },
   "outputs": [],
   "source": []
  }
 ],
 "metadata": {
  "kernelspec": {
   "display_name": "Python 2",
   "language": "python",
   "name": "python2"
  },
  "language_info": {
   "codemirror_mode": {
    "name": "ipython",
    "version": 2
   },
   "file_extension": ".py",
   "mimetype": "text/x-python",
   "name": "python",
   "nbconvert_exporter": "python",
   "pygments_lexer": "ipython2",
   "version": "2.7.11"
  }
 },
 "nbformat": 4,
 "nbformat_minor": 0
}
